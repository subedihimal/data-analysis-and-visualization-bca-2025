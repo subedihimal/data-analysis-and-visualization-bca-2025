{
 "cells": [
  {
   "cell_type": "markdown",
   "metadata": {},
   "source": [
    "### Visualization basics\n",
    "\n",
    "#### 1. Introduction to Matplotlib\n",
    "Matplotlib is a powerful Python library used for data visualization."
   ]
  },
  {
   "cell_type": "code",
   "execution_count": null,
   "metadata": {},
   "outputs": [],
   "source": [
    "# Importing libraries\n",
    "import matplotlib.pyplot as plt\n",
    "import numpy as np\n",
    "import seaborn as sns\n",
    "import pandas as pd\n",
    "from mpl_toolkits.mplot3d import Axes3D\n",
    "from matplotlib.animation import PillowWriter, FuncAnimation\n",
    "import numpy as np\n",
    "import mplfinance as mpf\n"
   ]
  },
  {
   "cell_type": "markdown",
   "metadata": {},
   "source": [
    "### Basics of Matplot lib"
   ]
  },
  {
   "cell_type": "code",
   "execution_count": null,
   "metadata": {},
   "outputs": [],
   "source": [
    "# Creating a figure\n",
    "plt.figure(figsize=(4,4))\n",
    "# Set title\n",
    "plt.title(\"Simple line plot\")\n",
    "# Set label\n",
    "plt.xlabel(\"X Axis\")\n",
    "plt.ylabel(\"Y Axis\")\n",
    "# Show a plot\n",
    "plt.show()\n"
   ]
  },
  {
   "cell_type": "markdown",
   "metadata": {},
   "source": [
    "### Line Charts\n",
    "A line plot is the most basic type of chart. It shows the relationship between two variables and is ideal for continuous data trends over intervals."
   ]
  },
  {
   "cell_type": "code",
   "execution_count": null,
   "metadata": {},
   "outputs": [],
   "source": [
    "x = [1, 2, 3, 4, 5]\n",
    "y = [2, 3, 5, 7, 11]\n",
    "\n",
    "plt.plot(x, y)\n",
    "plt.title('Simple Line Plot')\n",
    "plt.xlabel('X-axis')\n",
    "plt.ylabel('Y-axis')\n",
    "plt.show()"
   ]
  },
  {
   "cell_type": "code",
   "execution_count": null,
   "metadata": {},
   "outputs": [],
   "source": [
    "# Plot Customizations\n",
    "# Adding markers, changing colors, line styles\n",
    "plt.plot(x, y, color='green', linestyle='--', marker='o')\n",
    "# Available line styles: '-', '--', '-.', ':', 'None', ' ', '', 'solid', 'dashed', 'dashdot', 'dotted'\n",
    "# Available Markers: '.', ',', 'o', 'x', ',', '1', etc\n",
    "# Read more about available markers: https://matplotlib.org/stable/api/markers_api.html\n",
    "plt.title('Customized Line Plot')\n",
    "plt.xlabel('X-axis')\n",
    "plt.ylabel('Y-axis')\n",
    "plt.grid(True)\n",
    "plt.show()"
   ]
  },
  {
   "cell_type": "code",
   "execution_count": null,
   "metadata": {},
   "outputs": [],
   "source": [
    "# Multiple Lines in One Plot\n",
    "# Comparing two or more related datasets is easy with multiple line plots.\n",
    "x2 = [1, 2, 3, 4, 5]\n",
    "y2 = [1, 4, 6, 8, 9]\n",
    "\n",
    "plt.plot(x, y, label='Line 1')\n",
    "plt.plot(x2, y2, label='Line 2', linestyle='--')\n",
    "plt.title('Multiple Lines')\n",
    "plt.xlabel('X-axis')\n",
    "plt.ylabel('Y-axis')\n",
    "plt.legend()\n",
    "plt.show()"
   ]
  },
  {
   "cell_type": "code",
   "execution_count": null,
   "metadata": {},
   "outputs": [],
   "source": [
    "# Subplots\n",
    "# Subplots allow you to present multiple related plots in a single figure. Useful for comparative analysis.\n",
    "fig, axs = plt.subplots(2, 2)\n",
    "axs[0, 0].plot(x, y)\n",
    "axs[0, 0].set_title('Top Left')\n",
    "\n",
    "axs[0, 1].bar(x, y)\n",
    "axs[0, 1].set_title('Top Right')\n",
    "\n",
    "axs[1, 0].scatter(x, y)\n",
    "axs[1, 0].set_title('Bottom Left')\n",
    "\n",
    "axs[1, 1].hist(y)\n",
    "axs[1, 1].set_title('Bottom Right')\n",
    "\n",
    "plt.tight_layout()\n",
    "plt.show()"
   ]
  },
  {
   "cell_type": "code",
   "execution_count": null,
   "metadata": {},
   "outputs": [],
   "source": [
    "# Bar Plots\n",
    "# Bar plots are used to compare quantities across different categories.\n",
    "\n",
    "categories = ['A', 'B', 'C', 'D']\n",
    "values = [10, 24, 36, 40]\n",
    "plt.bar(categories, values, color='skyblue')\n",
    "plt.title('Bar Plot')\n",
    "plt.show()"
   ]
  },
  {
   "cell_type": "code",
   "execution_count": null,
   "metadata": {},
   "outputs": [],
   "source": [
    "# Scatter Plots\n",
    "# Scatter plots show the relationship between two continuous variables\n",
    "x_scatter = [5, 7, 8, 7, 2, 17, 2, 9, 4, 11]\n",
    "y_scatter = [99, 86, 87, 88, 100, 86, 103, 87, 94, 78]\n",
    "plt.scatter(x_scatter, y_scatter, color='red')\n",
    "plt.title('Scatter Plot')\n",
    "plt.xlabel('X Value')\n",
    "plt.ylabel('Y Value')\n",
    "plt.show()"
   ]
  },
  {
   "cell_type": "code",
   "execution_count": null,
   "metadata": {},
   "outputs": [],
   "source": [
    "# Histograms\n",
    "# Histograms are useful for understanding the distribution and frequency of data\n",
    "data = np.random.randn(1000)\n",
    "plt.hist(data, bins=30, color='purple')\n",
    "plt.title('Histogram')\n",
    "plt.show()"
   ]
  },
  {
   "cell_type": "code",
   "execution_count": null,
   "metadata": {},
   "outputs": [],
   "source": [
    "# Pie charts\n",
    "# Pie charts show proportions of a whole. Ideal for simple part-to-whole relationships.\n",
    "labels = ['Python', 'C++', 'Ruby', 'Java']\n",
    "sizes = [215, 130, 245, 210]\n",
    "\n",
    "plt.pie(sizes, autopct='%1.1f%%') # autopct is used to format the numerical labels on each slice of the pie chart\n",
    "plt.axis('equal')  # Equal aspect ratio ensures the pie is drawn as a circle.\n",
    "plt.legend(labels, title=\"Languages\", loc=\"upper right\")\n",
    "plt.title('Pie Chart')\n",
    "plt.show()"
   ]
  },
  {
   "cell_type": "code",
   "execution_count": null,
   "metadata": {},
   "outputs": [],
   "source": [
    "# Advanced Customizations\n",
    "# Enhance visualizations with larger figures, annotations, and saving capabilities.\n",
    "plt.figure(figsize=(10, 5))\n",
    "plt.plot(x, y, marker='o')\n",
    "plt.title('Advanced Plot')\n",
    "plt.xlabel('X')\n",
    "plt.ylabel('Y')\n",
    "plt.annotate('Prime jump', xy=(4, 7), xytext=(3, 10),\n",
    "             arrowprops=dict(facecolor='black', shrink=0.05))\n",
    "plt.savefig('advanced_plot.png')\n",
    "plt.show()\n"
   ]
  },
  {
   "cell_type": "code",
   "execution_count": null,
   "metadata": {},
   "outputs": [],
   "source": [
    "# Object-Oriented API\n",
    "# Object-oriented approach offers more control and flexibility in complex plots.\n",
    "fig, ax = plt.subplots()\n",
    "ax.plot(x, y, linestyle='--', marker='o')\n",
    "ax.set_title('OOP Style Plot')\n",
    "ax.set_xlabel('X-axis')\n",
    "ax.set_ylabel('Y-axis')\n",
    "plt.show()"
   ]
  },
  {
   "cell_type": "markdown",
   "metadata": {},
   "source": [
    "### Seaborn\n",
    "Seaborn is built on top of Matplotlib and provides a high-level interface for attractive and informative plots.\n"
   ]
  },
  {
   "cell_type": "markdown",
   "metadata": {},
   "source": [
    "The Iris dataset is a classic dataset in the field of machine learning and statistics. It contains data about 150 iris flowers, from 3 different species:\n",
    "1. Setosa\n",
    "2. Versicolor\n",
    "3. Virginica\n",
    "\n",
    "Each flower has the following measurements: `sepal_length`, `sepal_width`, `petal_length`, `petal_width`, `species (the class label)`\n",
    "\n",
    "This dataset is often used for:\n",
    "1. Classification tasks\n",
    "2. xploratory data analysis\n",
    "3. Demonstrating plotting and machine learning algorithms\n",
    "\n"
   ]
  },
  {
   "cell_type": "code",
   "execution_count": null,
   "metadata": {},
   "outputs": [],
   "source": [
    "# For other data sources data from https://github.com/mwaskom/seaborn-data\n",
    "data = sns.load_dataset(\"iris\") \n",
    "sns.scatterplot(data=data, x=\"sepal_length\", y=\"sepal_width\", hue=\"species\")\n",
    "plt.title('Seaborn Scatter Plot')\n",
    "plt.show()"
   ]
  },
  {
   "cell_type": "markdown",
   "metadata": {},
   "source": [
    "### Why Seaborn?\n",
    "Seaborn is built on top of Matplotlib but offers several improvements that make it more convenient for statistical data visualization:\n",
    "\n",
    "1. Better Aesthetics Out of the Box\n",
    "Seaborn comes with clean, modern, and visually appealing default styles — less time spent tweaking appearance manually.\n",
    "2. Simplified Syntax\n",
    "Creating complex plots (like violin plots, box plots, or multi-variable scatter plots) is much simpler and shorter compared to Matplotlib.\n",
    "```\n",
    "sns.boxplot(data=tips, x=\"day\", y=\"total_bill\", hue=\"sex\")\n",
    "```\n",
    "\n"
   ]
  },
  {
   "cell_type": "code",
   "execution_count": null,
   "metadata": {},
   "outputs": [],
   "source": [
    "tips = sns.load_dataset(\"tips\")\n",
    "sns.boxplot(data=tips, x=\"day\", y=\"total_bill\", hue=\"sex\")\n",
    "plt.title(\"Box Plot of Total Bill by Day and Gender\")\n",
    "plt.show()"
   ]
  },
  {
   "cell_type": "code",
   "execution_count": null,
   "metadata": {},
   "outputs": [],
   "source": [
    "# 13. 3D Plotting\n",
    "# 3D plots allow visualization of three variables. Useful for advanced analysis and simulations.\n",
    "\n",
    "fig = plt.figure()\n",
    "ax = fig.add_subplot(111, projection='3d')\n",
    "x3d = np.linspace(-5, 5, 100)\n",
    "y3d = np.linspace(-5, 5, 100)\n",
    "x3d, y3d = np.meshgrid(x3d, y3d)\n",
    "z3d = np.sin(np.sqrt(x3d**2 + y3d**2))\n",
    "\n",
    "ax.plot_surface(x3d, y3d, z3d, cmap='viridis')\n",
    "plt.title('3D Surface Plot')\n",
    "plt.show()"
   ]
  },
  {
   "cell_type": "markdown",
   "metadata": {},
   "source": [
    "### Candle sticks\n",
    "Matplotlib doesnt support candlestick charts by default. Hence we use another library `mplfinance` for it. This library expects pandas dataframe as its input for data"
   ]
  },
  {
   "cell_type": "code",
   "execution_count": null,
   "metadata": {},
   "outputs": [],
   "source": [
    "data = {\n",
    "    'Date': ['2025-04-01', '2025-04-02', '2025-04-03', '2025-04-04', '2025-04-05'],\n",
    "    'Open': [100, 102, 104, 103, 105],\n",
    "    'High': [105, 106, 108, 107, 110],\n",
    "    'Low': [99, 101, 102, 102, 104],\n",
    "    'Close': [104, 105, 107, 106, 109],\n",
    "    'Volume': [1000, 1200, 1300, 1100, 1400]\n",
    "}\n",
    "\n",
    "# Convert to DataFrame\n",
    "df = pd.DataFrame(data)\n",
    "df['Date'] = pd.to_datetime(df['Date'])\n",
    "df.set_index('Date', inplace=True)\n",
    "\n",
    "# Plot candlestick chart\n",
    "mpf.plot(df, type='candle', style='charles', title='Candlestick Chart', volume=True)\n"
   ]
  },
  {
   "cell_type": "markdown",
   "metadata": {},
   "source": [
    "### Animated visualizations\n",
    "We can created animated visualizations in `matplotlib` using the `animation` submodule"
   ]
  },
  {
   "cell_type": "code",
   "execution_count": null,
   "metadata": {},
   "outputs": [],
   "source": [
    "# Animation visualizing sine wave\n",
    "\n",
    "fig = plt.figure()\n",
    "l, = plt.plot([], [], 'k-')\n",
    "\n",
    "plt.xlim(-5,5)\n",
    "plt.ylim(-5,5)\n",
    "\n",
    "def sin(x):\n",
    "    return np.sin(x) * 3 # * 3 for amplitude magnification\n",
    "\n",
    "static_xlist = np.linspace(-5, 5, 100)\n",
    "static_ylist = sin(static_xlist)\n",
    "\n",
    "plt.xlabel(\"xlabel\")\n",
    "plt.ylabel(\"ylabel\")\n",
    "plt.title(\"sinwave\")\n",
    "\n",
    "# Static\n",
    "l.set_data(static_xlist, static_ylist)\n",
    "plt.show()\n",
    "\n",
    "\n",
    "# Animated\n",
    "metadata=dict(title='Movie', artist='someartist')\n",
    "writer = PillowWriter(fps=20, metadata=metadata)\n",
    "\n",
    "animated_xlist=[]\n",
    "animated_ylist=[]\n",
    "\n",
    "with writer.saving(fig, 'sinewave.gif', 100):\n",
    "    for xval in np.linspace(-5,5,100):\n",
    "        animated_xlist.append(xval)\n",
    "        animated_ylist.append(sin(xval))\n",
    "        l.set_data(animated_xlist, animated_ylist)\n",
    "        writer.grab_frame()"
   ]
  },
  {
   "cell_type": "code",
   "execution_count": null,
   "metadata": {},
   "outputs": [],
   "source": [
    "# Animation visualizing time complexity of algorithms\n",
    "# >> O(1)\n",
    "# >> O(log(n))\n",
    "# >> O(n)\n",
    "# >> O(nlog(n))\n",
    "# >> O(n^2)\n",
    "\n",
    "# Using OOP based for simplicity\n",
    "fig, ax = plt.subplots()\n",
    "ax.set_xlim(1, 250)\n",
    "ax.set_ylim(0, 150)\n",
    "ax.set_title(\"Time Complexity Growth Comparison\")\n",
    "ax.set_xlabel(\"n (input size)\")\n",
    "ax.set_ylabel(\"Operations\")\n",
    "\n",
    "n = np.arange(1, 250)\n",
    "\n",
    "y_const = np.ones_like(n) * 10              # O(1)\n",
    "y_log = np.log2(n) * 20                     # O(log n)\n",
    "y_linear = n                                # O(n)\n",
    "y_nlogn = n * np.log2(n)                    # O(n log n)\n",
    "y_quad = n**2 / 1.0                         # O(n^2)\n",
    "\n",
    "line1, = ax.plot([], [], label='O(1)', color='gray')\n",
    "line2, = ax.plot([], [], label='O(log n)', color='blue')\n",
    "line3, = ax.plot([], [], label='O(n)', color='green')\n",
    "line4, = ax.plot([], [], label='O(n log n)', color='orange')\n",
    "line5, = ax.plot([], [], label='O(n²)', color='red')\n",
    "\n",
    "ax.legend(loc='upper left')\n",
    "\n",
    "def init():\n",
    "    line1.set_data([], [])\n",
    "    line2.set_data([], [])\n",
    "    line3.set_data([], [])\n",
    "    line4.set_data([], [])\n",
    "    line5.set_data([], [])\n",
    "    return line1, line2, line3, line4, line5\n",
    "\n",
    "def update(i):\n",
    "    line1.set_data(n[:i], y_const[:i])\n",
    "    line2.set_data(n[:i], y_log[:i])\n",
    "    line3.set_data(n[:i], y_linear[:i])\n",
    "    line4.set_data(n[:i], y_nlogn[:i])\n",
    "    line5.set_data(n[:i], y_quad[:i])\n",
    "    return line1, line2, line3, line4, line5\n",
    "\n",
    "ani = FuncAnimation(fig, update, frames=len(n), init_func=init, blit=True, interval=20)\n",
    "ani.save(\"time_complexity.gif\", writer=PillowWriter(fps=20))\n"
   ]
  }
 ],
 "metadata": {
  "kernelspec": {
   "display_name": "venv",
   "language": "python",
   "name": "python3"
  },
  "language_info": {
   "codemirror_mode": {
    "name": "ipython",
    "version": 3
   },
   "file_extension": ".py",
   "mimetype": "text/x-python",
   "name": "python",
   "nbconvert_exporter": "python",
   "pygments_lexer": "ipython3",
   "version": "3.11.9"
  }
 },
 "nbformat": 4,
 "nbformat_minor": 2
}
