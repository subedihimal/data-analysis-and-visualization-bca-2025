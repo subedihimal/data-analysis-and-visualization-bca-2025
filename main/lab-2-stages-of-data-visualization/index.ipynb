{
  "cells": [
    {
      "cell_type": "markdown",
      "metadata": {
        "id": "OcHG1822WdXv"
      },
      "source": [
        "# Fry's Seven Stages of Visualization\n",
        "\n",
        "**Stages**\n",
        "1. Acquire\n",
        "2. Parse\n",
        "3. Filter\n",
        "4. Mine\n",
        "5. Represent\n",
        "6. Refine\n",
        "7. Interact"
      ]
    },
    {
      "cell_type": "code",
      "execution_count": null,
      "metadata": {
        "id": "OesFPoM1XFCs"
      },
      "outputs": [],
      "source": [
        "# Imports\n",
        "import pandas as pd\n",
        "import matplotlib.pyplot as plt\n",
        "import seaborn as sns\n",
        "from IPython.display import display\n",
        "import ipywidgets as widgets"
      ]
    },
    {
      "cell_type": "code",
      "execution_count": null,
      "metadata": {
        "colab": {
          "base_uri": "https://localhost:8080/",
          "height": 423
        },
        "id": "Phiz2xX_WuUf",
        "outputId": "bbd46622-8030-4c43-985e-3770a4822bb1"
      },
      "outputs": [],
      "source": [
        "'''\n",
        "Stage 1: Acquire data from a dataset from any source like kaggle.\n",
        "Ex: https://www.kaggle.com/datasets/shekharkoirala/nepal-covid19-dataset\n",
        "'''\n",
        "file_path=\"../data/nepal-covid.csv\"\n",
        "covid_dataframe = pd.read_csv(file_path)\n",
        "covid_dataframe"
      ]
    },
    {
      "cell_type": "code",
      "execution_count": null,
      "metadata": {
        "colab": {
          "base_uri": "https://localhost:8080/",
          "height": 328
        },
        "id": "XHXQEIcgXeFm",
        "outputId": "a0d71031-5e6b-409a-961d-fea22048402b"
      },
      "outputs": [],
      "source": [
        "'''\n",
        "Stage 2: Parse data from the dataset\n",
        "'''\n",
        "# Preview the data\n",
        "display(covid_dataframe.info())\n",
        "display(covid_dataframe.head())"
      ]
    },
    {
      "cell_type": "markdown",
      "metadata": {},
      "source": [
        "The Age column contains age ranges (like '31 - 40') and an '80+' category, so it's stored as an object.\n",
        "\n",
        "To convert this to a numeric format, we can:\n",
        "\n",
        "Take the midpoint of each age range (e.g., '31 - 40' → 35.5)\n",
        "\n",
        "Convert '80+' to a reasonable estimate like 85"
      ]
    },
    {
      "cell_type": "code",
      "execution_count": null,
      "metadata": {},
      "outputs": [],
      "source": [
        "def parse_age(age_str):\n",
        "    if isinstance(age_str, str):\n",
        "        if '+' in age_str:\n",
        "            return 85  # Approx for '80+'\n",
        "        try:\n",
        "            parts = age_str.split(' - ')\n",
        "            return (int(parts[0]) + int(parts[1])) / 2\n",
        "        except:\n",
        "            return None\n",
        "    return None  # Return None for non-string entries\n",
        "\n",
        "covid_dataframe[\"Age_numeric\"] = covid_dataframe[\"Age\"].apply(parse_age)\n",
        "\n",
        "covid_dataframe"
      ]
    },
    {
      "cell_type": "markdown",
      "metadata": {},
      "source": [
        "We now have a age numeric column after parsing data"
      ]
    },
    {
      "cell_type": "code",
      "execution_count": null,
      "metadata": {
        "colab": {
          "base_uri": "https://localhost:8080/",
          "height": 280
        },
        "id": "sv-vFFOxbi_s",
        "outputId": "78a20e0a-e421-49ab-ca41-ca6b480f4674"
      },
      "outputs": [],
      "source": [
        "'''\n",
        "Stage 3: Filter\n",
        "Remove all those rows that has missing test or case values\n",
        "'''\n",
        "print(\"Rows with missing/null values\")\n",
        "display(covid_dataframe[covid_dataframe[['Value', 'Age']].isnull().any(axis=1)])\n"
      ]
    },
    {
      "cell_type": "markdown",
      "metadata": {
        "id": "9-XVly-ccE35"
      },
      "source": [
        "We see there are some rows with NaN values. We will need to drop (remove) them before we proceed"
      ]
    },
    {
      "cell_type": "code",
      "execution_count": null,
      "metadata": {
        "colab": {
          "base_uri": "https://localhost:8080/",
          "height": 53
        },
        "id": "HaKJOqPScEst",
        "outputId": "cedf6ab5-00fc-4136-9788-c2ca33a29a36"
      },
      "outputs": [],
      "source": [
        "covid_dataframe_filtered = covid_dataframe.dropna(subset=[\"Value\", \"Age\"])\n",
        "display(covid_dataframe_filtered[covid_dataframe_filtered[[\"Value\", \"Age\"]].isnull().any(axis=1)])"
      ]
    },
    {
      "cell_type": "markdown",
      "metadata": {
        "id": "eq07cyf0cS-A"
      },
      "source": [
        "Now there are no rows with NaN values"
      ]
    },
    {
      "cell_type": "code",
      "execution_count": null,
      "metadata": {
        "colab": {
          "base_uri": "https://localhost:8080/",
          "height": 269
        },
        "id": "JTBiMIpAcZ3x",
        "outputId": "b2f25a60-392a-4325-b35f-75ec10d0987b"
      },
      "outputs": [],
      "source": [
        "'''\n",
        "State 4: Mine\n",
        "We can now extract information from the data\n",
        "'''\n",
        "# Convert 'Period' to datetime to \n",
        "covid_dataframe_filtered.loc[:, \"Period\"] = pd.to_datetime(covid_dataframe_filtered[\"Period\"])\n",
        "\n",
        "# Total cases by province\n",
        "cases_by_province = covid_dataframe_filtered.groupby(\"Province\")[\"Value\"].sum().sort_values(ascending=False)\n",
        "\n",
        "# Case trends over time\n",
        "cases_over_time = covid_dataframe_filtered.groupby(\"Period\")[\"Value\"].sum()\n",
        "\n",
        "# Case distribution by age\n",
        "age_group_cases = covid_dataframe_filtered.groupby(\"Age\")[\"Value\"].sum().sort_values(ascending=False)\n",
        "\n",
        "# Case distribution by gender\n",
        "gender_cases = covid_dataframe_filtered.groupby(\"Sex\")[\"Value\"].sum()\n",
        "\n",
        "print(\"cases_by_province\\n\", cases_by_province, \"\\n\")\n",
        "print(\"gender_cases\\n\", gender_cases, \"\\n\")\n",
        "print(\"cases_over_time\\n\", cases_over_time, \"\\n\")\n",
        "print(\"age_group_cases\\n\", age_group_cases, \"\\n\")\n"
      ]
    },
    {
      "cell_type": "code",
      "execution_count": null,
      "metadata": {},
      "outputs": [],
      "source": [
        "\n",
        "'''\n",
        "State 5 and 6: Represent and refine\n",
        "5: We will create multiple visualizations based on the data we mined to better visualize the results\n",
        "6. We will provide proper labels, colors and markings to better understand data after looking at the visualization\n",
        "'''\n",
        "\n",
        "# Bar chart: Cases by Province\n",
        "# Bar chart: Total cases by province with actual values above bars\n",
        "plt.figure(figsize=(10, 6))\n",
        "bars = plt.bar(cases_by_province.index, cases_by_province.values)\n",
        "plt.title(\"Total COVID-19 Cases by Province\")\n",
        "plt.ylabel(\"Cases\")\n",
        "plt.xticks(rotation=45)\n",
        "\n",
        "# Add value labels above each bar\n",
        "for bar in bars:\n",
        "    height = bar.get_height()\n",
        "    plt.text(bar.get_x() + bar.get_width()/2, height, f'{int(height):,}', \n",
        "             ha='center', va='bottom', fontsize=9)\n",
        "\n",
        "plt.tight_layout()\n",
        "plt.show()\n",
        "\n",
        "# Line chart: Cases over time\n",
        "cases_over_time.plot(title=\"COVID-19 Cases Over Time\")\n",
        "plt.ylabel(\"Cases\")\n",
        "plt.xlabel(\"Date\")\n",
        "plt.tight_layout()\n",
        "plt.show()\n",
        "\n",
        "\n",
        "# Bar chart: Cases by Age Group\n",
        "age_group_cases.plot(kind=\"bar\", title=\"Cases by Age Group\")\n",
        "plt.ylabel(\"Cases\")\n",
        "plt.xticks(rotation=45)\n",
        "plt.tight_layout()\n",
        "plt.show()\n",
        "\n",
        "# Create a pie chart with a legend instead of labels on the slices\n",
        "plt.figure(figsize=(6, 6))\n",
        "colors = plt.get_cmap(\"Set2\").colors  # use a pleasant color palette\n",
        "\n",
        "# Pie chart without labels on the pie\n",
        "patches, texts, _ = plt.pie(gender_cases, labels=None, autopct='%1.1f%%', colors=colors, startangle=90)\n",
        "\n",
        "# Add a legend instead\n",
        "plt.legend(patches, gender_cases.index, title=\"Gender\", loc=\"best\")\n",
        "plt.title(\"COVID-19 Cases by Gender\")\n",
        "plt.tight_layout()\n",
        "plt.show()"
      ]
    },
    {
      "cell_type": "code",
      "execution_count": null,
      "metadata": {},
      "outputs": [],
      "source": [
        "'''\n",
        "State 7: Interact\n",
        "We will create an interactive select dropdown that will filter based on the province\n",
        "'''\n",
        "import ipywidgets as widgets\n",
        "from IPython.display import display\n",
        "\n",
        "# Dropdown for province selection\n",
        "province_dropdown = widgets.Dropdown(\n",
        "    options=covid_dataframe_filtered[\"Province\"].unique(),\n",
        "    description=\"Province:\"\n",
        ")\n",
        "\n",
        "# Function to show hospital/case details per selected province\n",
        "def show_province_data(province):\n",
        "    display(covid_dataframe_filtered[covid_dataframe_filtered[\"Province\"] == province].head())\n",
        "\n",
        "# Interactive widget\n",
        "widgets.interact(show_province_data, province=province_dropdown)"
      ]
    }
  ],
  "metadata": {
    "colab": {
      "provenance": []
    },
    "kernelspec": {
      "display_name": "venv",
      "language": "python",
      "name": "python3"
    },
    "language_info": {
      "codemirror_mode": {
        "name": "ipython",
        "version": 3
      },
      "file_extension": ".py",
      "mimetype": "text/x-python",
      "name": "python",
      "nbconvert_exporter": "python",
      "pygments_lexer": "ipython3",
      "version": "3.11.9"
    },
    "widgets": {
      "application/vnd.jupyter.widget-state+json": {
        "523ceb5e30cc494cad3bf3d412c44398": {
          "model_module": "@jupyter-widgets/controls",
          "model_module_version": "1.5.0",
          "model_name": "DescriptionStyleModel",
          "state": {
            "_model_module": "@jupyter-widgets/controls",
            "_model_module_version": "1.5.0",
            "_model_name": "DescriptionStyleModel",
            "_view_count": null,
            "_view_module": "@jupyter-widgets/base",
            "_view_module_version": "1.2.0",
            "_view_name": "StyleView",
            "description_width": ""
          }
        },
        "880ea4f36c5b41a38faf87519aae2791": {
          "model_module": "@jupyter-widgets/base",
          "model_module_version": "1.2.0",
          "model_name": "LayoutModel",
          "state": {
            "_model_module": "@jupyter-widgets/base",
            "_model_module_version": "1.2.0",
            "_model_name": "LayoutModel",
            "_view_count": null,
            "_view_module": "@jupyter-widgets/base",
            "_view_module_version": "1.2.0",
            "_view_name": "LayoutView",
            "align_content": null,
            "align_items": null,
            "align_self": null,
            "border": null,
            "bottom": null,
            "display": null,
            "flex": null,
            "flex_flow": null,
            "grid_area": null,
            "grid_auto_columns": null,
            "grid_auto_flow": null,
            "grid_auto_rows": null,
            "grid_column": null,
            "grid_gap": null,
            "grid_row": null,
            "grid_template_areas": null,
            "grid_template_columns": null,
            "grid_template_rows": null,
            "height": null,
            "justify_content": null,
            "justify_items": null,
            "left": null,
            "margin": null,
            "max_height": null,
            "max_width": null,
            "min_height": null,
            "min_width": null,
            "object_fit": null,
            "object_position": null,
            "order": null,
            "overflow": null,
            "overflow_x": null,
            "overflow_y": null,
            "padding": null,
            "right": null,
            "top": null,
            "visibility": null,
            "width": null
          }
        },
        "d00e82a328a24f2a9520120330148e7d": {
          "model_module": "@jupyter-widgets/controls",
          "model_module_version": "1.5.0",
          "model_name": "DropdownModel",
          "state": {
            "_dom_classes": [],
            "_model_module": "@jupyter-widgets/controls",
            "_model_module_version": "1.5.0",
            "_model_name": "DropdownModel",
            "_options_labels": [
              "1",
              "2",
              "Bagmati",
              "Gandaki",
              "Karnali",
              "Lumbini",
              "schim"
            ],
            "_view_count": null,
            "_view_module": "@jupyter-widgets/controls",
            "_view_module_version": "1.5.0",
            "_view_name": "DropdownView",
            "description": "Province:",
            "description_tooltip": null,
            "disabled": false,
            "index": 5,
            "layout": "IPY_MODEL_f21f832e976541fe9fee15264628e48c",
            "style": "IPY_MODEL_523ceb5e30cc494cad3bf3d412c44398"
          }
        },
        "d027c5525a1241d997130a9e720e8278": {
          "model_module": "@jupyter-widgets/controls",
          "model_module_version": "1.5.0",
          "model_name": "VBoxModel",
          "state": {
            "_dom_classes": [
              "widget-interact"
            ],
            "_model_module": "@jupyter-widgets/controls",
            "_model_module_version": "1.5.0",
            "_model_name": "VBoxModel",
            "_view_count": null,
            "_view_module": "@jupyter-widgets/controls",
            "_view_module_version": "1.5.0",
            "_view_name": "VBoxView",
            "box_style": "",
            "children": [
              "IPY_MODEL_d00e82a328a24f2a9520120330148e7d",
              "IPY_MODEL_e9783458e5fd4b77aad02f27d155039a"
            ],
            "layout": "IPY_MODEL_e4febf08be4a43a0beec072530af397f"
          }
        },
        "e4febf08be4a43a0beec072530af397f": {
          "model_module": "@jupyter-widgets/base",
          "model_module_version": "1.2.0",
          "model_name": "LayoutModel",
          "state": {
            "_model_module": "@jupyter-widgets/base",
            "_model_module_version": "1.2.0",
            "_model_name": "LayoutModel",
            "_view_count": null,
            "_view_module": "@jupyter-widgets/base",
            "_view_module_version": "1.2.0",
            "_view_name": "LayoutView",
            "align_content": null,
            "align_items": null,
            "align_self": null,
            "border": null,
            "bottom": null,
            "display": null,
            "flex": null,
            "flex_flow": null,
            "grid_area": null,
            "grid_auto_columns": null,
            "grid_auto_flow": null,
            "grid_auto_rows": null,
            "grid_column": null,
            "grid_gap": null,
            "grid_row": null,
            "grid_template_areas": null,
            "grid_template_columns": null,
            "grid_template_rows": null,
            "height": null,
            "justify_content": null,
            "justify_items": null,
            "left": null,
            "margin": null,
            "max_height": null,
            "max_width": null,
            "min_height": null,
            "min_width": null,
            "object_fit": null,
            "object_position": null,
            "order": null,
            "overflow": null,
            "overflow_x": null,
            "overflow_y": null,
            "padding": null,
            "right": null,
            "top": null,
            "visibility": null,
            "width": null
          }
        },
        "e9783458e5fd4b77aad02f27d155039a": {
          "model_module": "@jupyter-widgets/output",
          "model_module_version": "1.0.0",
          "model_name": "OutputModel",
          "state": {
            "_dom_classes": [],
            "_model_module": "@jupyter-widgets/output",
            "_model_module_version": "1.0.0",
            "_model_name": "OutputModel",
            "_view_count": null,
            "_view_module": "@jupyter-widgets/output",
            "_view_module_version": "1.0.0",
            "_view_name": "OutputView",
            "layout": "IPY_MODEL_880ea4f36c5b41a38faf87519aae2791",
            "msg_id": "",
            "outputs": [
              {
                "data": {
                  "application/vnd.google.colaboratory.intrinsic+json": {
                    "summary": "{\n  \"name\": \"widgets\",\n  \"rows\": 10,\n  \"fields\": [\n    {\n      \"column\": \"Hospital Name\",\n      \"properties\": {\n        \"dtype\": \"string\",\n        \"num_unique_values\": 10,\n        \"samples\": [\n          \"Bheri Hospital, Nepalgunj, Banke\",\n          \"Others (n=2)*Lumbini\",\n          \"Universal College of Medical Sciences\"\n        ],\n        \"semantic_type\": \"\",\n        \"description\": \"\"\n      }\n    },\n    {\n      \"column\": \"Total Test\",\n      \"properties\": {\n        \"dtype\": \"number\",\n        \"std\": 173,\n        \"min\": 0,\n        \"max\": 548,\n        \"num_unique_values\": 9,\n        \"samples\": [\n          26,\n          307,\n          62\n        ],\n        \"semantic_type\": \"\",\n        \"description\": \"\"\n      }\n    },\n    {\n      \"column\": \"Positive case\",\n      \"properties\": {\n        \"dtype\": \"number\",\n        \"std\": 56,\n        \"min\": 0,\n        \"max\": 169,\n        \"num_unique_values\": 9,\n        \"samples\": [\n          7,\n          169,\n          15\n        ],\n        \"semantic_type\": \"\",\n        \"description\": \"\"\n      }\n    }\n  ]\n}",
                    "type": "dataframe"
                  },
                  "text/html": "\n  <div id=\"df-6314356f-957a-41a9-a347-b14e0fc94e70\" class=\"colab-df-container\">\n    <div>\n<style scoped>\n    .dataframe tbody tr th:only-of-type {\n        vertical-align: middle;\n    }\n\n    .dataframe tbody tr th {\n        vertical-align: top;\n    }\n\n    .dataframe thead th {\n        text-align: right;\n    }\n</style>\n<table border=\"1\" class=\"dataframe\">\n  <thead>\n    <tr style=\"text-align: right;\">\n      <th></th>\n      <th>Hospital Name</th>\n      <th>Total Test</th>\n      <th>Positive case</th>\n    </tr>\n  </thead>\n  <tbody>\n    <tr>\n      <th>67</th>\n      <td>National Path Lab &amp; Research Center Pvt. Ltd.</td>\n      <td>548</td>\n      <td>117</td>\n    </tr>\n    <tr>\n      <th>73</th>\n      <td>Others (n=2)*Lumbini</td>\n      <td>307</td>\n      <td>169</td>\n    </tr>\n    <tr>\n      <th>64</th>\n      <td>Provincial Public Health Laboratory, Rupandehi</td>\n      <td>103</td>\n      <td>59</td>\n    </tr>\n    <tr>\n      <th>69</th>\n      <td>Bageswari Diagnostic and Polyclinic Center (P....</td>\n      <td>79</td>\n      <td>28</td>\n    </tr>\n    <tr>\n      <th>70</th>\n      <td>Nepalgunj Medical College, Kohalpur, Banke</td>\n      <td>76</td>\n      <td>20</td>\n    </tr>\n    <tr>\n      <th>71</th>\n      <td>Universal College of Medical Sciences</td>\n      <td>62</td>\n      <td>15</td>\n    </tr>\n    <tr>\n      <th>68</th>\n      <td>Rapti Academy of Health Science, Dang</td>\n      <td>39</td>\n      <td>29</td>\n    </tr>\n    <tr>\n      <th>72</th>\n      <td>Lumbini Medical College and Teaching Hospital</td>\n      <td>26</td>\n      <td>7</td>\n    </tr>\n    <tr>\n      <th>65</th>\n      <td>Bheri Hospital, Nepalgunj, Banke</td>\n      <td>0</td>\n      <td>0</td>\n    </tr>\n    <tr>\n      <th>66</th>\n      <td>Lumbini Provincial Hospital</td>\n      <td>0</td>\n      <td>0</td>\n    </tr>\n  </tbody>\n</table>\n</div>\n    <div class=\"colab-df-buttons\">\n\n  <div class=\"colab-df-container\">\n    <button class=\"colab-df-convert\" onclick=\"convertToInteractive('df-6314356f-957a-41a9-a347-b14e0fc94e70')\"\n            title=\"Convert this dataframe to an interactive table.\"\n            style=\"display:none;\">\n\n  <svg xmlns=\"http://www.w3.org/2000/svg\" height=\"24px\" viewBox=\"0 -960 960 960\">\n    <path d=\"M120-120v-720h720v720H120Zm60-500h600v-160H180v160Zm220 220h160v-160H400v160Zm0 220h160v-160H400v160ZM180-400h160v-160H180v160Zm440 0h160v-160H620v160ZM180-180h160v-160H180v160Zm440 0h160v-160H620v160Z\"/>\n  </svg>\n    </button>\n\n  <style>\n    .colab-df-container {\n      display:flex;\n      gap: 12px;\n    }\n\n    .colab-df-convert {\n      background-color: #E8F0FE;\n      border: none;\n      border-radius: 50%;\n      cursor: pointer;\n      display: none;\n      fill: #1967D2;\n      height: 32px;\n      padding: 0 0 0 0;\n      width: 32px;\n    }\n\n    .colab-df-convert:hover {\n      background-color: #E2EBFA;\n      box-shadow: 0px 1px 2px rgba(60, 64, 67, 0.3), 0px 1px 3px 1px rgba(60, 64, 67, 0.15);\n      fill: #174EA6;\n    }\n\n    .colab-df-buttons div {\n      margin-bottom: 4px;\n    }\n\n    [theme=dark] .colab-df-convert {\n      background-color: #3B4455;\n      fill: #D2E3FC;\n    }\n\n    [theme=dark] .colab-df-convert:hover {\n      background-color: #434B5C;\n      box-shadow: 0px 1px 3px 1px rgba(0, 0, 0, 0.15);\n      filter: drop-shadow(0px 1px 2px rgba(0, 0, 0, 0.3));\n      fill: #FFFFFF;\n    }\n  </style>\n\n    <script>\n      const buttonEl =\n        document.querySelector('#df-6314356f-957a-41a9-a347-b14e0fc94e70 button.colab-df-convert');\n      buttonEl.style.display =\n        google.colab.kernel.accessAllowed ? 'block' : 'none';\n\n      async function convertToInteractive(key) {\n        const element = document.querySelector('#df-6314356f-957a-41a9-a347-b14e0fc94e70');\n        const dataTable =\n          await google.colab.kernel.invokeFunction('convertToInteractive',\n                                                    [key], {});\n        if (!dataTable) return;\n\n        const docLinkHtml = 'Like what you see? Visit the ' +\n          '<a target=\"_blank\" href=https://colab.research.google.com/notebooks/data_table.ipynb>data table notebook</a>'\n          + ' to learn more about interactive tables.';\n        element.innerHTML = '';\n        dataTable['output_type'] = 'display_data';\n        await google.colab.output.renderOutput(dataTable, element);\n        const docLink = document.createElement('div');\n        docLink.innerHTML = docLinkHtml;\n        element.appendChild(docLink);\n      }\n    </script>\n  </div>\n\n\n<div id=\"df-c5bf1e9b-5a75-431c-98cd-732b4e3e9d8c\">\n  <button class=\"colab-df-quickchart\" onclick=\"quickchart('df-c5bf1e9b-5a75-431c-98cd-732b4e3e9d8c')\"\n            title=\"Suggest charts\"\n            style=\"display:none;\">\n\n<svg xmlns=\"http://www.w3.org/2000/svg\" height=\"24px\"viewBox=\"0 0 24 24\"\n     width=\"24px\">\n    <g>\n        <path d=\"M19 3H5c-1.1 0-2 .9-2 2v14c0 1.1.9 2 2 2h14c1.1 0 2-.9 2-2V5c0-1.1-.9-2-2-2zM9 17H7v-7h2v7zm4 0h-2V7h2v10zm4 0h-2v-4h2v4z\"/>\n    </g>\n</svg>\n  </button>\n\n<style>\n  .colab-df-quickchart {\n      --bg-color: #E8F0FE;\n      --fill-color: #1967D2;\n      --hover-bg-color: #E2EBFA;\n      --hover-fill-color: #174EA6;\n      --disabled-fill-color: #AAA;\n      --disabled-bg-color: #DDD;\n  }\n\n  [theme=dark] .colab-df-quickchart {\n      --bg-color: #3B4455;\n      --fill-color: #D2E3FC;\n      --hover-bg-color: #434B5C;\n      --hover-fill-color: #FFFFFF;\n      --disabled-bg-color: #3B4455;\n      --disabled-fill-color: #666;\n  }\n\n  .colab-df-quickchart {\n    background-color: var(--bg-color);\n    border: none;\n    border-radius: 50%;\n    cursor: pointer;\n    display: none;\n    fill: var(--fill-color);\n    height: 32px;\n    padding: 0;\n    width: 32px;\n  }\n\n  .colab-df-quickchart:hover {\n    background-color: var(--hover-bg-color);\n    box-shadow: 0 1px 2px rgba(60, 64, 67, 0.3), 0 1px 3px 1px rgba(60, 64, 67, 0.15);\n    fill: var(--button-hover-fill-color);\n  }\n\n  .colab-df-quickchart-complete:disabled,\n  .colab-df-quickchart-complete:disabled:hover {\n    background-color: var(--disabled-bg-color);\n    fill: var(--disabled-fill-color);\n    box-shadow: none;\n  }\n\n  .colab-df-spinner {\n    border: 2px solid var(--fill-color);\n    border-color: transparent;\n    border-bottom-color: var(--fill-color);\n    animation:\n      spin 1s steps(1) infinite;\n  }\n\n  @keyframes spin {\n    0% {\n      border-color: transparent;\n      border-bottom-color: var(--fill-color);\n      border-left-color: var(--fill-color);\n    }\n    20% {\n      border-color: transparent;\n      border-left-color: var(--fill-color);\n      border-top-color: var(--fill-color);\n    }\n    30% {\n      border-color: transparent;\n      border-left-color: var(--fill-color);\n      border-top-color: var(--fill-color);\n      border-right-color: var(--fill-color);\n    }\n    40% {\n      border-color: transparent;\n      border-right-color: var(--fill-color);\n      border-top-color: var(--fill-color);\n    }\n    60% {\n      border-color: transparent;\n      border-right-color: var(--fill-color);\n    }\n    80% {\n      border-color: transparent;\n      border-right-color: var(--fill-color);\n      border-bottom-color: var(--fill-color);\n    }\n    90% {\n      border-color: transparent;\n      border-bottom-color: var(--fill-color);\n    }\n  }\n</style>\n\n  <script>\n    async function quickchart(key) {\n      const quickchartButtonEl =\n        document.querySelector('#' + key + ' button');\n      quickchartButtonEl.disabled = true;  // To prevent multiple clicks.\n      quickchartButtonEl.classList.add('colab-df-spinner');\n      try {\n        const charts = await google.colab.kernel.invokeFunction(\n            'suggestCharts', [key], {});\n      } catch (error) {\n        console.error('Error during call to suggestCharts:', error);\n      }\n      quickchartButtonEl.classList.remove('colab-df-spinner');\n      quickchartButtonEl.classList.add('colab-df-quickchart-complete');\n    }\n    (() => {\n      let quickchartButtonEl =\n        document.querySelector('#df-c5bf1e9b-5a75-431c-98cd-732b4e3e9d8c button');\n      quickchartButtonEl.style.display =\n        google.colab.kernel.accessAllowed ? 'block' : 'none';\n    })();\n  </script>\n</div>\n\n    </div>\n  </div>\n",
                  "text/plain": "                                        Hospital Name  Total Test  \\\n67      National Path Lab & Research Center Pvt. Ltd.         548   \n73                               Others (n=2)*Lumbini         307   \n64     Provincial Public Health Laboratory, Rupandehi         103   \n69  Bageswari Diagnostic and Polyclinic Center (P....          79   \n70         Nepalgunj Medical College, Kohalpur, Banke          76   \n71              Universal College of Medical Sciences          62   \n68              Rapti Academy of Health Science, Dang          39   \n72      Lumbini Medical College and Teaching Hospital          26   \n65                   Bheri Hospital, Nepalgunj, Banke           0   \n66                        Lumbini Provincial Hospital           0   \n\n    Positive case  \n67            117  \n73            169  \n64             59  \n69             28  \n70             20  \n71             15  \n68             29  \n72              7  \n65              0  \n66              0  "
                },
                "metadata": {},
                "output_type": "display_data"
              }
            ]
          }
        },
        "f21f832e976541fe9fee15264628e48c": {
          "model_module": "@jupyter-widgets/base",
          "model_module_version": "1.2.0",
          "model_name": "LayoutModel",
          "state": {
            "_model_module": "@jupyter-widgets/base",
            "_model_module_version": "1.2.0",
            "_model_name": "LayoutModel",
            "_view_count": null,
            "_view_module": "@jupyter-widgets/base",
            "_view_module_version": "1.2.0",
            "_view_name": "LayoutView",
            "align_content": null,
            "align_items": null,
            "align_self": null,
            "border": null,
            "bottom": null,
            "display": null,
            "flex": null,
            "flex_flow": null,
            "grid_area": null,
            "grid_auto_columns": null,
            "grid_auto_flow": null,
            "grid_auto_rows": null,
            "grid_column": null,
            "grid_gap": null,
            "grid_row": null,
            "grid_template_areas": null,
            "grid_template_columns": null,
            "grid_template_rows": null,
            "height": null,
            "justify_content": null,
            "justify_items": null,
            "left": null,
            "margin": null,
            "max_height": null,
            "max_width": null,
            "min_height": null,
            "min_width": null,
            "object_fit": null,
            "object_position": null,
            "order": null,
            "overflow": null,
            "overflow_x": null,
            "overflow_y": null,
            "padding": null,
            "right": null,
            "top": null,
            "visibility": null,
            "width": null
          }
        }
      }
    }
  },
  "nbformat": 4,
  "nbformat_minor": 0
}
